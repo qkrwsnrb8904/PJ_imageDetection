{
 "cells": [
  {
   "cell_type": "code",
   "execution_count": null,
   "metadata": {},
   "outputs": [],
   "source": [
    "import os\n",
    "import matplotlib.pyplot as plt\n",
    "from PIL import Image\n",
    "\n",
    "import matplotlib.pyplot as plt\n",
    "plt.rcParams['font.family'] ='Malgun Gothic'\n",
    "plt.rcParams['axes.unicode_minus'] =False\n",
    "\n",
    "\n",
    "dir_main = \"./Image_data/\"\n",
    "classes = ['cardboard', 'glass', 'metal', 'paper', 'plastic', 'trash']\n",
    "\n",
    "for cls in classes:\n",
    "    class_dir = os.path.join(dir_main, cls)  # 클래스별 디렉토리 경로\n",
    "    if not os.path.exists(class_dir):\n",
    "        print(f\"디렉토리가 존재하지 않습니다: {class_dir}\")\n",
    "        continue\n",
    "\n",
    "    # 해당 클래스 폴더의 모든 이미지 파일 가져오기\n",
    "    image_files = [f for f in os.listdir(class_dir) if f.endswith(('.jpg', '.png'))]\n",
    "    \n",
    "    if not image_files:\n",
    "        print(f\"{cls} 클래스에 이미지가 없습니다.\")\n",
    "        continue\n",
    "\n",
    "    # 최대 5개의 이미지만 표시\n",
    "    image_files = image_files[:5]\n",
    "    images = [Image.open(os.path.join(class_dir, img_file)) for img_file in image_files]\n",
    "\n",
    "    # 이미지 출력\n",
    "    fig, axes = plt.subplots(nrows=1, ncols=len(images), figsize=(15, 2))\n",
    "    for idx, (img_file, img) in enumerate(zip(image_files, images)):\n",
    "        axes[idx].set_title(img_file)\n",
    "        axes[idx].imshow(img)\n",
    "        axes[idx].axis('off')  # 축 제거\n",
    "    \n",
    "    plt.suptitle(f\"{cls} 클래스 이미지\")\n",
    "    plt.show()\n"
   ]
  },
  {
   "cell_type": "code",
   "execution_count": null,
   "metadata": {},
   "outputs": [
    {
     "data": {
      "text/plain": [
       "[]\n",
       "(0,)\n",
       "Traceback (most recent call last):\n",
       "  File \"c:\\Users\\user\\.vscode\\extensions\\ms-python.python-2025.2.0-win32-x64\\python_files\\python_server.py\", line 133, in exec_user_input\n",
       "    retval = callable_(user_input, user_globals)\n",
       "             ^^^^^^^^^^^^^^^^^^^^^^^^^^^^^^^^^^^\n",
       "  File \"<string>\", line 22, in <module>\n",
       "IndexError: too many indices for array: array is 1-dimensional, but 2 were indexed\n",
       "\n"
      ]
     },
     "metadata": {},
     "output_type": "display_data"
    }
   ],
   "source": [
    "import os\n",
    "import numpy as np\n",
    "from glob import glob\n",
    "from sklearn.model_selection import train_test_split\n",
    "\n",
    "# 랜덤 시드 설정 (재현 가능성 확보)\n",
    "np.random.seed(724)\n",
    "\n",
    "# 데이터 경로 설정\n",
    "dir_main = \"./Image_data\"\n",
    "dir_data_original = os.path.join(dir_main, 'raw')\n",
    "\n",
    "# 클래스 정보 가져오기\n",
    "classes = sorted(glob(f\"{dir_data_original}/*\"))  # 클래스 경로 정렬\n",
    "class_info = {idx: os.path.basename(cls) for idx, cls in enumerate(classes)}\n",
    "\n",
    "# 클래스 정보 출력 (확인용)\n",
    "print(\"클래스 정보:\", class_info)\n",
    "\n",
    "# 이미지 파일과 클래스 정보를 가져오기\n",
    "img_files = glob(f\"{dir_data_original}/*/*.jpg\")  # 모든 jpg 파일 경로 수집\n",
    "dataset = np.array([[img_file, os.path.basename(os.path.dirname(img_file))] for img_file in img_files])\n",
    "\n",
    "# 데이터셋 확인 (첫 5개 데이터와 전체 크기 출력)\n",
    "print(\"데이터셋 샘플:\", dataset[:5])\n",
    "print(\"데이터셋 크기:\", dataset.shape)\n",
    "\n",
    "# x와 y를 분리 (이미지 경로와 클래스 이름)\n",
    "x = dataset[:, 0]  # 이미지 파일 경로\n",
    "y = dataset[:, 1]  # 클래스 이름\n",
    "\n",
    "# 학습/테스트 데이터 분리 (70% 학습, 30% 테스트)\n",
    "X_train, X_temp, y_train, y_temp = train_test_split(x, y, train_size=0.7, random_state=724)\n",
    "\n",
    "# 검증/테스트 데이터 분리 (30% 중 절반씩 나눔 => 15% 검증, 15% 테스트)\n",
    "X_val, X_test, y_val, y_test = train_test_split(X_temp, y_temp, train_size=0.5, random_state=724)\n",
    "\n",
    "# 데이터 개수 출력\n",
    "print(\"Train data 개수:\", len(X_train))\n",
    "print(\"Validation data 개수:\", len(X_val))\n",
    "print(\"Test data 개수:\", len(X_test))\n"
   ]
  }
 ],
 "metadata": {
  "language_info": {
   "name": "python"
  }
 },
 "nbformat": 4,
 "nbformat_minor": 2
}
